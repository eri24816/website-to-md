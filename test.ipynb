{
 "cells": [
  {
   "cell_type": "code",
   "execution_count": 1,
   "metadata": {},
   "outputs": [],
   "source": [
    "# downloads a website into a set of interlinked .md files"
   ]
  },
  {
   "cell_type": "code",
   "execution_count": 4,
   "metadata": {},
   "outputs": [],
   "source": [
    "import os\n",
    "import bs4\n",
    "import requests\n",
    "import re\n",
    "\n",
    "def get_soup(url) -> bs4.BeautifulSoup:\n",
    "    response = requests.get(url)\n",
    "    return bs4.BeautifulSoup(response.text, 'html.parser')\n",
    "\n",
    "def get_title(soup: bs4.BeautifulSoup) -> str:\n",
    "    title = soup.title.string\n",
    "    title = re.sub(r'[^\\w\\s]', '', title)\n",
    "    title = re.sub(r'\\s+', '_', title)\n",
    "    return title\n",
    "\n",
    "import urllib.parse\n",
    "def post_process_md(md: str, page_url: str, website_root: str) -> str:\n",
    "    # replace relative links of resources with absolute links of that site\n",
    "    stem = urllib.parse.urlparse(page_url).scheme + '://' + urllib.parse.urlparse(page_url).netloc\\\n",
    "        + urllib.parse.urlparse(page_url).path.rsplit('/', 1)[0] + '/'\n",
    "    md = re.sub(r'\\]\\((?!http)([^)]+)\\)', r'](' + stem + r'\\1)', md)\n",
    "\n",
    "    # replace absolute links within the site with relative links\n",
    "    # pattern: [some text](http://root_url/some/path.html) -> [some text](some/path.md)\n",
    "    md = re.sub(r'\\]\\(' + website_root + r'([^)]+).html\\)', r'](\\1.md)', md)\n",
    "    \n",
    "    \n",
    "    return md"
   ]
  },
  {
   "cell_type": "code",
   "execution_count": 5,
   "metadata": {},
   "outputs": [],
   "source": [
    "website_first_page = 'https://ccrma.stanford.edu/~jos/pasp/Rectilinear_2D_Mesh.html'\n",
    "website_root = 'https://ccrma.stanford.edu/~jos/'\n",
    "search_range = 'https://ccrma.stanford.edu/~jos/pasp/'\n",
    "\n",
    "md_root = 'output/jos'\n"
   ]
  },
  {
   "cell_type": "code",
   "execution_count": 6,
   "metadata": {},
   "outputs": [
    {
     "name": "stdout",
     "output_type": "stream",
     "text": [
      "visiting https://ccrma.stanford.edu/~jos/pasp/Rectilinear_2D_Mesh.html 9367 bytes\n",
      "visiting https://ccrma.stanford.edu/~jos/pasp/Dispersion.html 9227 bytes\n",
      "visiting https://ccrma.stanford.edu/~jos/pasp/Digital_Waveguide_Mesh.html 8605 bytes\n",
      "visiting https://ccrma.stanford.edu/~jos/pasp/pasp.html 85382 bytes\n",
      "visiting https://ccrma.stanford.edu/~jos/pasp/Index_this_Document.html 219631 bytes\n",
      "visiting https://ccrma.stanford.edu/~jos/pasp/Rectilinear_2D_Mesh.html#fig:SchematicWaveguideMesh 9367 bytes\n",
      "visiting https://ccrma.stanford.edu/~jos/pasp/Digital_Waveguides.html 12669 bytes\n",
      "visiting https://ccrma.stanford.edu/~jos/pasp/Series_Combination_One_Ports.html 8368 bytes\n",
      "visiting https://ccrma.stanford.edu/~jos/pasp/Bibliography.html#FaustTutorial03 443150 bytes\n"
     ]
    },
    {
     "ename": "KeyboardInterrupt",
     "evalue": "",
     "output_type": "error",
     "traceback": [
      "\u001b[1;31m---------------------------------------------------------------------------\u001b[0m",
      "\u001b[1;31mKeyboardInterrupt\u001b[0m                         Traceback (most recent call last)",
      "Cell \u001b[1;32mIn[6], line 23\u001b[0m\n\u001b[0;32m     20\u001b[0m html \u001b[38;5;241m=\u001b[39m requests\u001b[38;5;241m.\u001b[39mget(url)\u001b[38;5;241m.\u001b[39mtext\n\u001b[0;32m     22\u001b[0m \u001b[38;5;28mprint\u001b[39m(\u001b[38;5;124m'\u001b[39m\u001b[38;5;124mvisiting\u001b[39m\u001b[38;5;124m'\u001b[39m, url, \u001b[38;5;28mlen\u001b[39m(html), \u001b[38;5;124m'\u001b[39m\u001b[38;5;124mbytes\u001b[39m\u001b[38;5;124m'\u001b[39m)\n\u001b[1;32m---> 23\u001b[0m md \u001b[38;5;241m=\u001b[39m \u001b[43mmarkdownify\u001b[49m\u001b[43m(\u001b[49m\u001b[43mhtml\u001b[49m\u001b[43m,\u001b[49m\u001b[43mkeep_inline_images_in\u001b[49m\u001b[38;5;241;43m=\u001b[39;49m\u001b[43m[\u001b[49m\u001b[38;5;124;43m'\u001b[39;49m\u001b[38;5;124;43mtd\u001b[39;49m\u001b[38;5;124;43m'\u001b[39;49m\u001b[43m]\u001b[49m\u001b[43m)\u001b[49m\n\u001b[0;32m     24\u001b[0m md \u001b[38;5;241m=\u001b[39m post_process_md(md, url, website_root)\n\u001b[0;32m     26\u001b[0m soup \u001b[38;5;241m=\u001b[39m bs4\u001b[38;5;241m.\u001b[39mBeautifulSoup(html, \u001b[38;5;124m'\u001b[39m\u001b[38;5;124mhtml.parser\u001b[39m\u001b[38;5;124m'\u001b[39m)\n",
      "File \u001b[1;32mc:\\Users\\a931e\\miniconda3\\envs\\gr\\Lib\\site-packages\\markdownify\\__init__.py:433\u001b[0m, in \u001b[0;36mmarkdownify\u001b[1;34m(html, **options)\u001b[0m\n\u001b[0;32m    432\u001b[0m \u001b[38;5;28;01mdef\u001b[39;00m \u001b[38;5;21mmarkdownify\u001b[39m(html, \u001b[38;5;241m*\u001b[39m\u001b[38;5;241m*\u001b[39moptions):\n\u001b[1;32m--> 433\u001b[0m     \u001b[38;5;28;01mreturn\u001b[39;00m \u001b[43mMarkdownConverter\u001b[49m\u001b[43m(\u001b[49m\u001b[38;5;241;43m*\u001b[39;49m\u001b[38;5;241;43m*\u001b[39;49m\u001b[43moptions\u001b[49m\u001b[43m)\u001b[49m\u001b[38;5;241;43m.\u001b[39;49m\u001b[43mconvert\u001b[49m\u001b[43m(\u001b[49m\u001b[43mhtml\u001b[49m\u001b[43m)\u001b[49m\n",
      "File \u001b[1;32mc:\\Users\\a931e\\miniconda3\\envs\\gr\\Lib\\site-packages\\markdownify\\__init__.py:105\u001b[0m, in \u001b[0;36mMarkdownConverter.convert\u001b[1;34m(self, html)\u001b[0m\n\u001b[0;32m    103\u001b[0m \u001b[38;5;28;01mdef\u001b[39;00m \u001b[38;5;21mconvert\u001b[39m(\u001b[38;5;28mself\u001b[39m, html):\n\u001b[0;32m    104\u001b[0m     soup \u001b[38;5;241m=\u001b[39m BeautifulSoup(html, \u001b[38;5;124m'\u001b[39m\u001b[38;5;124mhtml.parser\u001b[39m\u001b[38;5;124m'\u001b[39m)\n\u001b[1;32m--> 105\u001b[0m     \u001b[38;5;28;01mreturn\u001b[39;00m \u001b[38;5;28;43mself\u001b[39;49m\u001b[38;5;241;43m.\u001b[39;49m\u001b[43mconvert_soup\u001b[49m\u001b[43m(\u001b[49m\u001b[43msoup\u001b[49m\u001b[43m)\u001b[49m\n",
      "File \u001b[1;32mc:\\Users\\a931e\\miniconda3\\envs\\gr\\Lib\\site-packages\\markdownify\\__init__.py:108\u001b[0m, in \u001b[0;36mMarkdownConverter.convert_soup\u001b[1;34m(self, soup)\u001b[0m\n\u001b[0;32m    107\u001b[0m \u001b[38;5;28;01mdef\u001b[39;00m \u001b[38;5;21mconvert_soup\u001b[39m(\u001b[38;5;28mself\u001b[39m, soup):\n\u001b[1;32m--> 108\u001b[0m     \u001b[38;5;28;01mreturn\u001b[39;00m \u001b[38;5;28;43mself\u001b[39;49m\u001b[38;5;241;43m.\u001b[39;49m\u001b[43mprocess_tag\u001b[49m\u001b[43m(\u001b[49m\u001b[43msoup\u001b[49m\u001b[43m,\u001b[49m\u001b[43m \u001b[49m\u001b[43mconvert_as_inline\u001b[49m\u001b[38;5;241;43m=\u001b[39;49m\u001b[38;5;28;43;01mFalse\u001b[39;49;00m\u001b[43m,\u001b[49m\u001b[43m \u001b[49m\u001b[43mchildren_only\u001b[49m\u001b[38;5;241;43m=\u001b[39;49m\u001b[38;5;28;43;01mTrue\u001b[39;49;00m\u001b[43m)\u001b[49m\n",
      "File \u001b[1;32mc:\\Users\\a931e\\miniconda3\\envs\\gr\\Lib\\site-packages\\markdownify\\__init__.py:151\u001b[0m, in \u001b[0;36mMarkdownConverter.process_tag\u001b[1;34m(self, node, convert_as_inline, children_only)\u001b[0m\n\u001b[0;32m    149\u001b[0m         text \u001b[38;5;241m+\u001b[39m\u001b[38;5;241m=\u001b[39m \u001b[38;5;28mself\u001b[39m\u001b[38;5;241m.\u001b[39mprocess_text(el)\n\u001b[0;32m    150\u001b[0m     \u001b[38;5;28;01melse\u001b[39;00m:\n\u001b[1;32m--> 151\u001b[0m         text \u001b[38;5;241m+\u001b[39m\u001b[38;5;241m=\u001b[39m \u001b[38;5;28;43mself\u001b[39;49m\u001b[38;5;241;43m.\u001b[39;49m\u001b[43mprocess_tag\u001b[49m\u001b[43m(\u001b[49m\u001b[43mel\u001b[49m\u001b[43m,\u001b[49m\u001b[43m \u001b[49m\u001b[43mconvert_children_as_inline\u001b[49m\u001b[43m)\u001b[49m\n\u001b[0;32m    153\u001b[0m \u001b[38;5;28;01mif\u001b[39;00m \u001b[38;5;129;01mnot\u001b[39;00m children_only:\n\u001b[0;32m    154\u001b[0m     convert_fn \u001b[38;5;241m=\u001b[39m \u001b[38;5;28mgetattr\u001b[39m(\u001b[38;5;28mself\u001b[39m, \u001b[38;5;124m'\u001b[39m\u001b[38;5;124mconvert_\u001b[39m\u001b[38;5;132;01m%s\u001b[39;00m\u001b[38;5;124m'\u001b[39m \u001b[38;5;241m%\u001b[39m node\u001b[38;5;241m.\u001b[39mname, \u001b[38;5;28;01mNone\u001b[39;00m)\n",
      "File \u001b[1;32mc:\\Users\\a931e\\miniconda3\\envs\\gr\\Lib\\site-packages\\markdownify\\__init__.py:151\u001b[0m, in \u001b[0;36mMarkdownConverter.process_tag\u001b[1;34m(self, node, convert_as_inline, children_only)\u001b[0m\n\u001b[0;32m    149\u001b[0m         text \u001b[38;5;241m+\u001b[39m\u001b[38;5;241m=\u001b[39m \u001b[38;5;28mself\u001b[39m\u001b[38;5;241m.\u001b[39mprocess_text(el)\n\u001b[0;32m    150\u001b[0m     \u001b[38;5;28;01melse\u001b[39;00m:\n\u001b[1;32m--> 151\u001b[0m         text \u001b[38;5;241m+\u001b[39m\u001b[38;5;241m=\u001b[39m \u001b[38;5;28;43mself\u001b[39;49m\u001b[38;5;241;43m.\u001b[39;49m\u001b[43mprocess_tag\u001b[49m\u001b[43m(\u001b[49m\u001b[43mel\u001b[49m\u001b[43m,\u001b[49m\u001b[43m \u001b[49m\u001b[43mconvert_children_as_inline\u001b[49m\u001b[43m)\u001b[49m\n\u001b[0;32m    153\u001b[0m \u001b[38;5;28;01mif\u001b[39;00m \u001b[38;5;129;01mnot\u001b[39;00m children_only:\n\u001b[0;32m    154\u001b[0m     convert_fn \u001b[38;5;241m=\u001b[39m \u001b[38;5;28mgetattr\u001b[39m(\u001b[38;5;28mself\u001b[39m, \u001b[38;5;124m'\u001b[39m\u001b[38;5;124mconvert_\u001b[39m\u001b[38;5;132;01m%s\u001b[39;00m\u001b[38;5;124m'\u001b[39m \u001b[38;5;241m%\u001b[39m node\u001b[38;5;241m.\u001b[39mname, \u001b[38;5;28;01mNone\u001b[39;00m)\n",
      "    \u001b[1;31m[... skipping similar frames: MarkdownConverter.process_tag at line 151 (731 times)]\u001b[0m\n",
      "File \u001b[1;32mc:\\Users\\a931e\\miniconda3\\envs\\gr\\Lib\\site-packages\\markdownify\\__init__.py:151\u001b[0m, in \u001b[0;36mMarkdownConverter.process_tag\u001b[1;34m(self, node, convert_as_inline, children_only)\u001b[0m\n\u001b[0;32m    149\u001b[0m         text \u001b[38;5;241m+\u001b[39m\u001b[38;5;241m=\u001b[39m \u001b[38;5;28mself\u001b[39m\u001b[38;5;241m.\u001b[39mprocess_text(el)\n\u001b[0;32m    150\u001b[0m     \u001b[38;5;28;01melse\u001b[39;00m:\n\u001b[1;32m--> 151\u001b[0m         text \u001b[38;5;241m+\u001b[39m\u001b[38;5;241m=\u001b[39m \u001b[38;5;28;43mself\u001b[39;49m\u001b[38;5;241;43m.\u001b[39;49m\u001b[43mprocess_tag\u001b[49m\u001b[43m(\u001b[49m\u001b[43mel\u001b[49m\u001b[43m,\u001b[49m\u001b[43m \u001b[49m\u001b[43mconvert_children_as_inline\u001b[49m\u001b[43m)\u001b[49m\n\u001b[0;32m    153\u001b[0m \u001b[38;5;28;01mif\u001b[39;00m \u001b[38;5;129;01mnot\u001b[39;00m children_only:\n\u001b[0;32m    154\u001b[0m     convert_fn \u001b[38;5;241m=\u001b[39m \u001b[38;5;28mgetattr\u001b[39m(\u001b[38;5;28mself\u001b[39m, \u001b[38;5;124m'\u001b[39m\u001b[38;5;124mconvert_\u001b[39m\u001b[38;5;132;01m%s\u001b[39;00m\u001b[38;5;124m'\u001b[39m \u001b[38;5;241m%\u001b[39m node\u001b[38;5;241m.\u001b[39mname, \u001b[38;5;28;01mNone\u001b[39;00m)\n",
      "File \u001b[1;32mc:\\Users\\a931e\\miniconda3\\envs\\gr\\Lib\\site-packages\\markdownify\\__init__.py:149\u001b[0m, in \u001b[0;36mMarkdownConverter.process_tag\u001b[1;34m(self, node, convert_as_inline, children_only)\u001b[0m\n\u001b[0;32m    147\u001b[0m     \u001b[38;5;28;01mcontinue\u001b[39;00m\n\u001b[0;32m    148\u001b[0m \u001b[38;5;28;01melif\u001b[39;00m \u001b[38;5;28misinstance\u001b[39m(el, NavigableString):\n\u001b[1;32m--> 149\u001b[0m     text \u001b[38;5;241m+\u001b[39m\u001b[38;5;241m=\u001b[39m \u001b[38;5;28;43mself\u001b[39;49m\u001b[38;5;241;43m.\u001b[39;49m\u001b[43mprocess_text\u001b[49m\u001b[43m(\u001b[49m\u001b[43mel\u001b[49m\u001b[43m)\u001b[49m\n\u001b[0;32m    150\u001b[0m \u001b[38;5;28;01melse\u001b[39;00m:\n\u001b[0;32m    151\u001b[0m     text \u001b[38;5;241m+\u001b[39m\u001b[38;5;241m=\u001b[39m \u001b[38;5;28mself\u001b[39m\u001b[38;5;241m.\u001b[39mprocess_tag(el, convert_children_as_inline)\n",
      "File \u001b[1;32mc:\\Users\\a931e\\miniconda3\\envs\\gr\\Lib\\site-packages\\markdownify\\__init__.py:164\u001b[0m, in \u001b[0;36mMarkdownConverter.process_text\u001b[1;34m(self, el)\u001b[0m\n\u001b[0;32m    161\u001b[0m text \u001b[38;5;241m=\u001b[39m six\u001b[38;5;241m.\u001b[39mtext_type(el) \u001b[38;5;129;01mor\u001b[39;00m \u001b[38;5;124m'\u001b[39m\u001b[38;5;124m'\u001b[39m\n\u001b[0;32m    163\u001b[0m \u001b[38;5;66;03m# normalize whitespace if we're not inside a preformatted element\u001b[39;00m\n\u001b[1;32m--> 164\u001b[0m \u001b[38;5;28;01mif\u001b[39;00m \u001b[38;5;129;01mnot\u001b[39;00m \u001b[43mel\u001b[49m\u001b[38;5;241;43m.\u001b[39;49m\u001b[43mfind_parent\u001b[49m\u001b[43m(\u001b[49m\u001b[38;5;124;43m'\u001b[39;49m\u001b[38;5;124;43mpre\u001b[39;49m\u001b[38;5;124;43m'\u001b[39;49m\u001b[43m)\u001b[49m:\n\u001b[0;32m    165\u001b[0m     text \u001b[38;5;241m=\u001b[39m whitespace_re\u001b[38;5;241m.\u001b[39msub(\u001b[38;5;124m'\u001b[39m\u001b[38;5;124m \u001b[39m\u001b[38;5;124m'\u001b[39m, text)\n\u001b[0;32m    167\u001b[0m \u001b[38;5;66;03m# escape special characters if we're not inside a preformatted or code element\u001b[39;00m\n",
      "File \u001b[1;32mc:\\Users\\a931e\\miniconda3\\envs\\gr\\Lib\\site-packages\\bs4\\element.py:739\u001b[0m, in \u001b[0;36mPageElement.find_parent\u001b[1;34m(self, name, attrs, **kwargs)\u001b[0m\n\u001b[0;32m    736\u001b[0m \u001b[38;5;66;03m# NOTE: We can't use _find_one because findParents takes a different\u001b[39;00m\n\u001b[0;32m    737\u001b[0m \u001b[38;5;66;03m# set of arguments.\u001b[39;00m\n\u001b[0;32m    738\u001b[0m r \u001b[38;5;241m=\u001b[39m \u001b[38;5;28;01mNone\u001b[39;00m\n\u001b[1;32m--> 739\u001b[0m l \u001b[38;5;241m=\u001b[39m \u001b[38;5;28;43mself\u001b[39;49m\u001b[38;5;241;43m.\u001b[39;49m\u001b[43mfind_parents\u001b[49m\u001b[43m(\u001b[49m\u001b[43mname\u001b[49m\u001b[43m,\u001b[49m\u001b[43m \u001b[49m\u001b[43mattrs\u001b[49m\u001b[43m,\u001b[49m\u001b[43m \u001b[49m\u001b[38;5;241;43m1\u001b[39;49m\u001b[43m,\u001b[49m\u001b[43m \u001b[49m\u001b[43m_stacklevel\u001b[49m\u001b[38;5;241;43m=\u001b[39;49m\u001b[38;5;241;43m3\u001b[39;49m\u001b[43m,\u001b[49m\u001b[43m \u001b[49m\u001b[38;5;241;43m*\u001b[39;49m\u001b[38;5;241;43m*\u001b[39;49m\u001b[43mkwargs\u001b[49m\u001b[43m)\u001b[49m\n\u001b[0;32m    740\u001b[0m \u001b[38;5;28;01mif\u001b[39;00m l:\n\u001b[0;32m    741\u001b[0m     r \u001b[38;5;241m=\u001b[39m l[\u001b[38;5;241m0\u001b[39m]\n",
      "File \u001b[1;32mc:\\Users\\a931e\\miniconda3\\envs\\gr\\Lib\\site-packages\\bs4\\element.py:760\u001b[0m, in \u001b[0;36mPageElement.find_parents\u001b[1;34m(self, name, attrs, limit, **kwargs)\u001b[0m\n\u001b[0;32m    746\u001b[0m \u001b[38;5;250m\u001b[39m\u001b[38;5;124;03m\"\"\"Find all parents of this PageElement that match the given criteria.\u001b[39;00m\n\u001b[0;32m    747\u001b[0m \n\u001b[0;32m    748\u001b[0m \u001b[38;5;124;03mAll find_* methods take a common set of arguments. See the online\u001b[39;00m\n\u001b[1;32m   (...)\u001b[0m\n\u001b[0;32m    757\u001b[0m \u001b[38;5;124;03m:rtype: bs4.element.Tag | bs4.element.NavigableString\u001b[39;00m\n\u001b[0;32m    758\u001b[0m \u001b[38;5;124;03m\"\"\"\u001b[39;00m\n\u001b[0;32m    759\u001b[0m _stacklevel \u001b[38;5;241m=\u001b[39m kwargs\u001b[38;5;241m.\u001b[39mpop(\u001b[38;5;124m'\u001b[39m\u001b[38;5;124m_stacklevel\u001b[39m\u001b[38;5;124m'\u001b[39m, \u001b[38;5;241m2\u001b[39m)\n\u001b[1;32m--> 760\u001b[0m \u001b[38;5;28;01mreturn\u001b[39;00m \u001b[38;5;28;43mself\u001b[39;49m\u001b[38;5;241;43m.\u001b[39;49m\u001b[43m_find_all\u001b[49m\u001b[43m(\u001b[49m\u001b[43mname\u001b[49m\u001b[43m,\u001b[49m\u001b[43m \u001b[49m\u001b[43mattrs\u001b[49m\u001b[43m,\u001b[49m\u001b[43m \u001b[49m\u001b[38;5;28;43;01mNone\u001b[39;49;00m\u001b[43m,\u001b[49m\u001b[43m \u001b[49m\u001b[43mlimit\u001b[49m\u001b[43m,\u001b[49m\u001b[43m \u001b[49m\u001b[38;5;28;43mself\u001b[39;49m\u001b[38;5;241;43m.\u001b[39;49m\u001b[43mparents\u001b[49m\u001b[43m,\u001b[49m\n\u001b[0;32m    761\u001b[0m \u001b[43m                      \u001b[49m\u001b[43m_stacklevel\u001b[49m\u001b[38;5;241;43m=\u001b[39;49m\u001b[43m_stacklevel\u001b[49m\u001b[38;5;241;43m+\u001b[39;49m\u001b[38;5;241;43m1\u001b[39;49m\u001b[43m,\u001b[49m\u001b[43m \u001b[49m\u001b[38;5;241;43m*\u001b[39;49m\u001b[38;5;241;43m*\u001b[39;49m\u001b[43mkwargs\u001b[49m\u001b[43m)\u001b[49m\n",
      "File \u001b[1;32mc:\\Users\\a931e\\miniconda3\\envs\\gr\\Lib\\site-packages\\bs4\\element.py:841\u001b[0m, in \u001b[0;36mPageElement._find_all\u001b[1;34m(self, name, attrs, string, limit, generator, **kwargs)\u001b[0m\n\u001b[0;32m    839\u001b[0m     \u001b[38;5;28;01mbreak\u001b[39;00m\n\u001b[0;32m    840\u001b[0m \u001b[38;5;28;01mif\u001b[39;00m i:\n\u001b[1;32m--> 841\u001b[0m     found \u001b[38;5;241m=\u001b[39m \u001b[43mstrainer\u001b[49m\u001b[38;5;241;43m.\u001b[39;49m\u001b[43msearch\u001b[49m\u001b[43m(\u001b[49m\u001b[43mi\u001b[49m\u001b[43m)\u001b[49m\n\u001b[0;32m    842\u001b[0m     \u001b[38;5;28;01mif\u001b[39;00m found:\n\u001b[0;32m    843\u001b[0m         results\u001b[38;5;241m.\u001b[39mappend(found)\n",
      "File \u001b[1;32mc:\\Users\\a931e\\miniconda3\\envs\\gr\\Lib\\site-packages\\bs4\\element.py:2310\u001b[0m, in \u001b[0;36mSoupStrainer.search\u001b[1;34m(self, markup)\u001b[0m\n\u001b[0;32m   2307\u001b[0m found \u001b[38;5;241m=\u001b[39m \u001b[38;5;28;01mNone\u001b[39;00m\n\u001b[0;32m   2308\u001b[0m \u001b[38;5;66;03m# If given a list of items, scan it for a text element that\u001b[39;00m\n\u001b[0;32m   2309\u001b[0m \u001b[38;5;66;03m# matches.\u001b[39;00m\n\u001b[1;32m-> 2310\u001b[0m \u001b[38;5;28;01mif\u001b[39;00m \u001b[38;5;28mhasattr\u001b[39m(markup, \u001b[38;5;124m'\u001b[39m\u001b[38;5;124m__iter__\u001b[39m\u001b[38;5;124m'\u001b[39m) \u001b[38;5;129;01mand\u001b[39;00m \u001b[38;5;129;01mnot\u001b[39;00m \u001b[38;5;28misinstance\u001b[39m(markup, (Tag, \u001b[38;5;28mstr\u001b[39m)):\n\u001b[0;32m   2311\u001b[0m     \u001b[38;5;28;01mfor\u001b[39;00m element \u001b[38;5;129;01min\u001b[39;00m markup:\n\u001b[0;32m   2312\u001b[0m         \u001b[38;5;28;01mif\u001b[39;00m \u001b[38;5;28misinstance\u001b[39m(element, NavigableString) \\\n\u001b[0;32m   2313\u001b[0m                \u001b[38;5;129;01mand\u001b[39;00m \u001b[38;5;28mself\u001b[39m\u001b[38;5;241m.\u001b[39msearch(element):\n",
      "\u001b[1;31mKeyboardInterrupt\u001b[0m: "
     ]
    }
   ],
   "source": [
    "from pathlib import Path\n",
    "import queue\n",
    "from markdownify import markdownify\n",
    "\n",
    "\n",
    "visited = set()\n",
    "max_pages = 10\n",
    "\n",
    "q = queue.Queue()\n",
    "q.put(website_first_page)\n",
    "\n",
    "while not q.empty():\n",
    "    if len(visited) >= max_pages:\n",
    "        break\n",
    "    url = q.get()\n",
    "    if url in visited:\n",
    "        continue\n",
    "    \n",
    "    visited.add(url)\n",
    "    html = requests.get(url).text\n",
    "\n",
    "    print('visiting', url, len(html), 'bytes')\n",
    "    md = markdownify(html,keep_inline_images_in=['td'])\n",
    "    md = post_process_md(md, url, website_root)\n",
    "    \n",
    "    soup = bs4.BeautifulSoup(html, 'html.parser')\n",
    "\n",
    "    md_path = Path(md_root) / Path(url).relative_to(website_root).with_suffix('.md')\n",
    "    md_path.parent.mkdir(parents=True, exist_ok=True)\n",
    "    with open(md_path, 'w') as f:\n",
    "        f.write(md)\n",
    "    for a in soup.find_all('a'):\n",
    "        href = a.get('href')\n",
    "        if href is None:\n",
    "            continue\n",
    "        if not href.startswith('http'):\n",
    "            href = urllib.parse.urljoin(url, href)\n",
    "        if search_range in href and website_root in href:\n",
    "            q.put(href)"
   ]
  },
  {
   "cell_type": "code",
   "execution_count": 44,
   "metadata": {},
   "outputs": [
    {
     "data": {
      "text/plain": [
       "6"
      ]
     },
     "execution_count": 44,
     "metadata": {},
     "output_type": "execute_result"
    }
   ],
   "source": [
    "len(soup)"
   ]
  },
  {
   "cell_type": "code",
   "execution_count": null,
   "metadata": {},
   "outputs": [],
   "source": []
  },
  {
   "cell_type": "code",
   "execution_count": 46,
   "metadata": {},
   "outputs": [
    {
     "data": {
      "text/plain": [
       "'The_Rectilinear_2D_Mesh'"
      ]
     },
     "execution_count": 46,
     "metadata": {},
     "output_type": "execute_result"
    }
   ],
   "source": [
    "title"
   ]
  },
  {
   "cell_type": "code",
   "execution_count": null,
   "metadata": {},
   "outputs": [],
   "source": []
  }
 ],
 "metadata": {
  "kernelspec": {
   "display_name": "gr",
   "language": "python",
   "name": "python3"
  },
  "language_info": {
   "codemirror_mode": {
    "name": "ipython",
    "version": 3
   },
   "file_extension": ".py",
   "mimetype": "text/x-python",
   "name": "python",
   "nbconvert_exporter": "python",
   "pygments_lexer": "ipython3",
   "version": "3.11.4"
  }
 },
 "nbformat": 4,
 "nbformat_minor": 2
}
