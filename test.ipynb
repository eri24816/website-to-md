{
 "cells": [
  {
   "cell_type": "code",
   "execution_count": 1,
   "metadata": {},
   "outputs": [],
   "source": [
    "# downloads a website into a set of interlinked .md files"
   ]
  },
  {
   "cell_type": "code",
   "execution_count": 4,
   "metadata": {},
   "outputs": [],
   "source": [
    "import os\n",
    "import bs4\n",
    "import requests\n",
    "import re\n",
    "\n",
    "def get_soup(url) -> bs4.BeautifulSoup:\n",
    "    response = requests.get(url)\n",
    "    return bs4.BeautifulSoup(response.text, 'html.parser')\n",
    "\n",
    "def get_title(soup: bs4.BeautifulSoup) -> str:\n",
    "    title = soup.title.string\n",
    "    title = re.sub(r'[^\\w\\s]', '', title)\n",
    "    title = re.sub(r'\\s+', '_', title)\n",
    "    return title\n",
    "\n",
    "import urllib.parse\n",
    "def post_process_md(md: str, page_url: str, website_root: str) -> str:\n",
    "    # replace relative links of resources with absolute links of that site\n",
    "    stem = urllib.parse.urlparse(page_url).scheme + '://' + urllib.parse.urlparse(page_url).netloc\\\n",
    "        + urllib.parse.urlparse(page_url).path.rsplit('/', 1)[0] + '/'\n",
    "    md = re.sub(r'\\]\\((?!http)([^)]+)\\)', r'](' + stem + r'\\1)', md)\n",
    "\n",
    "    # replace absolute links within the site with relative links\n",
    "    # pattern: [some text](http://root_url/some/path.html) -> [some text](some/path.md)\n",
    "    md = re.sub(r'\\]\\(' + website_root + r'([^)]+).html\\)', r'](\\1.md)', md)\n",
    "    \n",
    "    \n",
    "    return md"
   ]
  },
  {
   "cell_type": "code",
   "execution_count": 5,
   "metadata": {},
   "outputs": [],
   "source": [
    "website_first_page = 'https://ccrma.stanford.edu/~jos/pasp/Rectilinear_2D_Mesh.html'\n",
    "website_root = 'https://ccrma.stanford.edu/~jos/'\n",
    "search_range = 'https://ccrma.stanford.edu/~jos/pasp/'\n",
    "\n",
    "md_root = 'output/jos'\n"
   ]
  },
  {
   "cell_type": "code",
   "execution_count": 6,
   "metadata": {},
   "outputs": [
    {
     "name": "stdout",
     "output_type": "stream",
     "text": [
      "visiting https://ccrma.stanford.edu/~jos/pasp/Rectilinear_2D_Mesh.html 9367 bytes\n",
      "visiting https://ccrma.stanford.edu/~jos/pasp/Dispersion.html 9227 bytes\n",
      "visiting https://ccrma.stanford.edu/~jos/pasp/Digital_Waveguide_Mesh.html 8605 bytes\n",
      "visiting https://ccrma.stanford.edu/~jos/pasp/pasp.html 85382 bytes\n",
      "visiting https://ccrma.stanford.edu/~jos/pasp/Index_this_Document.html 219631 bytes\n"
     ]
    }
   ],
   "source": [
    "from pathlib import Path\n",
    "import queue\n",
    "from markdownify import markdownify\n",
    "\n",
    "\n",
    "visited = set()\n",
    "max_pages = 10\n",
    "\n",
    "q = queue.Queue()\n",
    "q.put(website_first_page)\n",
    "\n",
    "while not q.empty():\n",
    "    if len(visited) >= max_pages:\n",
    "        break\n",
    "    url = q.get()\n",
    "    if url in visited:\n",
    "        continue\n",
    "    \n",
    "    visited.add(url)\n",
    "    html = requests.get(url).text\n",
    "\n",
    "    print('visiting', url, len(html), 'bytes')\n",
    "    md = markdownify(html,keep_inline_images_in=['td'])\n",
    "    md = post_process_md(md, url, website_root)\n",
    "    \n",
    "    soup = bs4.BeautifulSoup(html, 'html.parser')\n",
    "\n",
    "    md_path = Path(md_root) / Path(url).relative_to(website_root).with_suffix('.md')\n",
    "    md_path.parent.mkdir(parents=True, exist_ok=True)\n",
    "    with open(md_path, 'w') as f:\n",
    "        f.write(md)\n",
    "    for a in soup.find_all('a'):\n",
    "        href = a.get('href')\n",
    "        if href is None:\n",
    "            continue\n",
    "        if not href.startswith('http'):\n",
    "            href = urllib.parse.urljoin(url, href)\n",
    "        if search_range in href and website_root in href:\n",
    "            q.put(href)"
   ]
  },
  {
   "cell_type": "code",
   "execution_count": 44,
   "metadata": {},
   "outputs": [
    {
     "data": {
      "text/plain": [
       "6"
      ]
     },
     "execution_count": 44,
     "metadata": {},
     "output_type": "execute_result"
    }
   ],
   "source": [
    "len(soup)"
   ]
  },
  {
   "cell_type": "code",
   "execution_count": null,
   "metadata": {},
   "outputs": [],
   "source": []
  },
  {
   "cell_type": "code",
   "execution_count": 46,
   "metadata": {},
   "outputs": [
    {
     "data": {
      "text/plain": [
       "'The_Rectilinear_2D_Mesh'"
      ]
     },
     "execution_count": 46,
     "metadata": {},
     "output_type": "execute_result"
    }
   ],
   "source": [
    "title"
   ]
  },
  {
   "cell_type": "code",
   "execution_count": null,
   "metadata": {},
   "outputs": [],
   "source": []
  }
 ],
 "metadata": {
  "kernelspec": {
   "display_name": "gr",
   "language": "python",
   "name": "python3"
  },
  "language_info": {
   "codemirror_mode": {
    "name": "ipython",
    "version": 3
   },
   "file_extension": ".py",
   "mimetype": "text/x-python",
   "name": "python",
   "nbconvert_exporter": "python",
   "pygments_lexer": "ipython3",
   "version": "3.11.4"
  }
 },
 "nbformat": 4,
 "nbformat_minor": 2
}
